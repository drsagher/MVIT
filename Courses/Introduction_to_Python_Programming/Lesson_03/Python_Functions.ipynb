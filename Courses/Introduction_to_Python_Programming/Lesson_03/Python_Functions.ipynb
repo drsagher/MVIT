{
  "nbformat": 4,
  "nbformat_minor": 0,
  "metadata": {
    "colab": {
      "provenance": []
    },
    "kernelspec": {
      "name": "python3",
      "display_name": "Python 3"
    },
    "language_info": {
      "name": "python"
    }
  },
  "cells": [
    {
      "cell_type": "code",
      "execution_count": null,
      "metadata": {
        "id": "MSEAcc8ik3gj"
      },
      "outputs": [],
      "source": []
    },
    {
      "cell_type": "markdown",
      "source": [
        "# **Python Function**\n",
        "\n",
        "A function is a block of code that performs a specific task and can be called multiple times from different parts of a program. Functions improve code organization, readability, and reusability.\n",
        "\n",
        "* Regular Functions: Defined with the def keyword.\n",
        "* Lambda Functions: Anonymous, single-expression functions.\n",
        "* Recursive Functions: Functions that call themselves.\n",
        "* Nested Functions: Functions defined inside other functions."
      ],
      "metadata": {
        "id": "H20jE5YJlZZo"
      }
    },
    {
      "cell_type": "markdown",
      "source": [
        "**Defining a Function**\n",
        "\n",
        "\n",
        "```\n",
        "def function_name(parameters):\n",
        "    # Code block\n",
        "    return value  # Optional\n",
        "```\n",
        "\n"
      ],
      "metadata": {
        "id": "rIiLEGIAmvqP"
      }
    },
    {
      "cell_type": "code",
      "source": [
        "# Greeting Function\n",
        "def say_hello():\n",
        "    print(\"Hello, World!\")\n",
        "\n",
        "say_hello()"
      ],
      "metadata": {
        "colab": {
          "base_uri": "https://localhost:8080/"
        },
        "id": "q86j1FvOm4Y_",
        "outputId": "72d8f845-e776-42eb-e8d7-8fbae2b90921"
      },
      "execution_count": 1,
      "outputs": [
        {
          "output_type": "stream",
          "name": "stdout",
          "text": [
            "Hello, World!\n"
          ]
        }
      ]
    },
    {
      "cell_type": "code",
      "source": [
        "# Functions with Parameters\n",
        "\n",
        "def add_numbers(a, b):\n",
        "    result = a + b\n",
        "    print(f\"Sum of {a} and {b} is {result}\")\n",
        "\n",
        "add_numbers(5, 3)"
      ],
      "metadata": {
        "colab": {
          "base_uri": "https://localhost:8080/"
        },
        "id": "IWy4G1QmnKJg",
        "outputId": "8234a7ab-a4b7-468d-8f1a-103427473db2"
      },
      "execution_count": 2,
      "outputs": [
        {
          "output_type": "stream",
          "name": "stdout",
          "text": [
            "Sum of 5 and 3 is 8\n"
          ]
        }
      ]
    },
    {
      "cell_type": "code",
      "source": [
        "# Greeting with Default Name\n",
        "def greet(name=\"Guest\"):\n",
        "    print(f\"Hello, {name}!\")\n",
        "\n",
        "greet()          # Uses default value\n",
        "greet(\"Alice\")   # Uses provided value"
      ],
      "metadata": {
        "colab": {
          "base_uri": "https://localhost:8080/"
        },
        "id": "PHPl0bKHnp4n",
        "outputId": "8754e564-3766-41f1-cf09-2112096ee1cd"
      },
      "execution_count": 3,
      "outputs": [
        {
          "output_type": "stream",
          "name": "stdout",
          "text": [
            "Hello, Guest!\n",
            "Hello, Alice!\n"
          ]
        }
      ]
    },
    {
      "cell_type": "code",
      "source": [
        "# Order Details\n",
        "def order_food(item, quantity=1):\n",
        "    print(f\"Ordered {quantity} {item}(s)\")\n",
        "\n",
        "order_food(quantity=2, item=\"pizza\")"
      ],
      "metadata": {
        "colab": {
          "base_uri": "https://localhost:8080/"
        },
        "id": "LKTVVBgpoQJ3",
        "outputId": "9a75157d-25b4-4cfa-f1fa-2bebb425438b"
      },
      "execution_count": 4,
      "outputs": [
        {
          "output_type": "stream",
          "name": "stdout",
          "text": [
            "Ordered 2 pizza(s)\n"
          ]
        }
      ]
    },
    {
      "cell_type": "code",
      "source": [
        "# Summing Multiple Numbers\n",
        "def sum_numbers(*args):\n",
        "    total = sum(args)\n",
        "    print(f\"Sum: {total}\")\n",
        "\n",
        "sum_numbers(1, 2, 3, 4)"
      ],
      "metadata": {
        "colab": {
          "base_uri": "https://localhost:8080/"
        },
        "id": "_ySEkfQSpAwo",
        "outputId": "cc30dbd6-974f-4db3-8c46-e8ff89ddcb49"
      },
      "execution_count": 5,
      "outputs": [
        {
          "output_type": "stream",
          "name": "stdout",
          "text": [
            "Sum: 10\n"
          ]
        }
      ]
    },
    {
      "cell_type": "code",
      "source": [
        "# Keyword Arguments\n",
        "def create_profile(**kwargs):\n",
        "    for key, value in kwargs.items():\n",
        "        print(f\"{key}: {value}\")\n",
        "\n",
        "create_profile(name=\"Bob\", age=30, city=\"New York\")"
      ],
      "metadata": {
        "colab": {
          "base_uri": "https://localhost:8080/"
        },
        "id": "lBZevQRQpZfE",
        "outputId": "edb50de0-99a9-434f-b7a8-fca863fbf77d"
      },
      "execution_count": 6,
      "outputs": [
        {
          "output_type": "stream",
          "name": "stdout",
          "text": [
            "name: Bob\n",
            "age: 30\n",
            "city: New York\n"
          ]
        }
      ]
    },
    {
      "cell_type": "code",
      "source": [],
      "metadata": {
        "id": "RN7Sz8wBpgsv"
      },
      "execution_count": null,
      "outputs": []
    },
    {
      "cell_type": "markdown",
      "source": [
        "**Return Statements**\n",
        "The return statement sends a value back to the caller. If omitted, the function returns None."
      ],
      "metadata": {
        "id": "Cybsx0BjpozE"
      }
    },
    {
      "cell_type": "code",
      "source": [
        "# Area of a Rectangle\n",
        "def calculate_area(length, width):\n",
        "    return length * width\n",
        "\n",
        "area = calculate_area(5, 3)\n",
        "print(f\"Area: {area} square units\")"
      ],
      "metadata": {
        "colab": {
          "base_uri": "https://localhost:8080/"
        },
        "id": "G8-LKbuopvzw",
        "outputId": "1adf329d-68a9-48c2-c3cc-1b985344dc03"
      },
      "execution_count": 7,
      "outputs": [
        {
          "output_type": "stream",
          "name": "stdout",
          "text": [
            "Area: 15 square units\n"
          ]
        }
      ]
    },
    {
      "cell_type": "markdown",
      "source": [
        "**Lambda Functions**\n",
        "\n",
        "Lambda functions are small, anonymous functions defined using the lambda keyword. They are limited to a single expression.\n",
        "\n",
        "\n",
        "```\n",
        "lambda arguments: expression\n",
        "```\n",
        "\n"
      ],
      "metadata": {
        "id": "_he7WvPOp8qI"
      }
    },
    {
      "cell_type": "code",
      "source": [
        "square = lambda x: x * x\n",
        "print(square(5))"
      ],
      "metadata": {
        "colab": {
          "base_uri": "https://localhost:8080/"
        },
        "id": "XlnB5T6KqHJI",
        "outputId": "801be663-43c2-481f-e05e-bf5c5cb70b7f"
      },
      "execution_count": 8,
      "outputs": [
        {
          "output_type": "stream",
          "name": "stdout",
          "text": [
            "25\n"
          ]
        }
      ]
    },
    {
      "cell_type": "markdown",
      "source": [
        "**Recursive Functions**\n",
        "\n",
        "A recursive function calls itself to solve a problem by breaking it into smaller instances.\n",
        "\n",
        "Ensure a base case to prevent infinite recursion.\n",
        "\n",
        "* Many problems have recursive structures (e.g., tree traversals, mathematical sequences).\n",
        "* Converts iterative loops into elegant, readable code by reducing repetitive logic.\n",
        "* Used in divide-and-conquer algorithms (e.g., Merge Sort, Quick Sort, Binary Search).\n",
        "* Ideal for processing trees, linked lists, JSON hierarchies, and other nested structures.\n",
        "* Recursion is the foundation of mathematical sequences (e.g., Fibonacci, Tower of Hanoi).\n",
        "* Used in dynamic programming (with memoization to optimize repeated calculations).\n",
        "\n",
        "\n",
        "### When to Avoid Recursion?\n",
        "* Stack Overflow Risk: Deep recursion can exhaust call stack memory.\n",
        "* Performance Overhead: Function calls are slower than loops in some languages.\n",
        "* Complex Debugging: Recursive logic can be harder to trace than iterative loops."
      ],
      "metadata": {
        "id": "r9Srcta_s5Sx"
      }
    },
    {
      "cell_type": "code",
      "source": [
        "# Factorial\n",
        "def factorial(n):\n",
        "    if n == 0 or n == 1:  # Base case\n",
        "        return 1\n",
        "    return n * factorial(n - 1)  # Recursive case\n",
        "\n",
        "print(factorial(5))"
      ],
      "metadata": {
        "colab": {
          "base_uri": "https://localhost:8080/"
        },
        "id": "dpET52RIs_6h",
        "outputId": "bfbbc988-a05d-4b49-c962-05563ed0a3cd"
      },
      "execution_count": 10,
      "outputs": [
        {
          "output_type": "stream",
          "name": "stdout",
          "text": [
            "120\n"
          ]
        }
      ]
    },
    {
      "cell_type": "markdown",
      "source": [
        "**Nested Functions**\n",
        "\n",
        "Functions defined inside other functions are called nested functions, often used for encapsulation or helper functions.\n",
        "\n",
        "Nested functions can access variables from their enclosing scope."
      ],
      "metadata": {
        "id": "4lIfx16Dua8Z"
      }
    },
    {
      "cell_type": "code",
      "source": [
        "def outer_function(msg):\n",
        "    def inner_function():\n",
        "        print(f\"Message: {msg}\")\n",
        "    inner_function()\n",
        "\n",
        "outer_function(\"Hello!\")"
      ],
      "metadata": {
        "colab": {
          "base_uri": "https://localhost:8080/"
        },
        "id": "7dLpff4fuodP",
        "outputId": "86c233f2-20b6-4656-a8ec-a9300d39b1a5"
      },
      "execution_count": 11,
      "outputs": [
        {
          "output_type": "stream",
          "name": "stdout",
          "text": [
            "Message: Hello!\n"
          ]
        }
      ]
    },
    {
      "cell_type": "markdown",
      "source": [
        "**Practical Example: Shopping Cart Calculator**\n",
        "\n",
        "This example combines multiple function concepts to calculate the total cost in a shopping cart."
      ],
      "metadata": {
        "id": "mvGufxFUu6ex"
      }
    },
    {
      "cell_type": "code",
      "source": [
        "def calculate_total(items, discount_rate=0):\n",
        "    total = sum(items.values())\n",
        "    discount = total * discount_rate\n",
        "    return total - discount\n",
        "\n",
        "def print_receipt(customer, *items, **details):\n",
        "    print(f\"Receipt for {customer}:\")\n",
        "    for item, price in items:\n",
        "        print(f\"{item}: ${price}\")\n",
        "    total = calculate_total(details, discount_rate=details.get('discount', 0))\n",
        "    print(f\"Total: ${total:.2f}\")\n",
        "\n",
        "print_receipt(\"Alice\", (\"apple\", 1), (\"bread\", 2), total=3, discount=0.1)"
      ],
      "metadata": {
        "colab": {
          "base_uri": "https://localhost:8080/"
        },
        "id": "a8M-8gmNu-8Z",
        "outputId": "a2e471d1-441e-45f1-c38f-1adaab556f56"
      },
      "execution_count": 12,
      "outputs": [
        {
          "output_type": "stream",
          "name": "stdout",
          "text": [
            "Receipt for Alice:\n",
            "apple: $1\n",
            "bread: $2\n",
            "Total: $2.79\n"
          ]
        }
      ]
    },
    {
      "cell_type": "markdown",
      "source": [
        "**Advanced Example: Temperature Converter**\n",
        "\n",
        "This example uses functions to convert temperatures between Celsius, Fahrenheit, and Kelvin."
      ],
      "metadata": {
        "id": "dIfnSxp3vFhR"
      }
    },
    {
      "cell_type": "code",
      "source": [
        "def celsius_to_fahrenheit(celsius):\n",
        "    return (celsius * 9/5) + 32\n",
        "\n",
        "def fahrenheit_to_celsius(fahrenheit):\n",
        "    return (fahrenheit - 32) * 5/9\n",
        "\n",
        "def convert_temperature(value, unit):\n",
        "    \"\"\"Converts temperature between Celsius, Fahrenheit, and Kelvin.\"\"\"\n",
        "    unit = unit.lower()\n",
        "    if unit == \"celsius\":\n",
        "        return {\n",
        "            \"fahrenheit\": celsius_to_fahrenheit(value),\n",
        "            \"kelvin\": value + 273.15\n",
        "        }\n",
        "    elif unit == \"fahrenheit\":\n",
        "        celsius = fahrenheit_to_celsius(value)\n",
        "        return {\n",
        "            \"celsius\": celsius,\n",
        "            \"kelvin\": celsius + 273.15\n",
        "        }\n",
        "    elif unit == \"kelvin\":\n",
        "        celsius = value - 273.15\n",
        "        return {\n",
        "            \"celsius\": celsius,\n",
        "            \"fahrenheit\": celsius_to_fahrenheit(celsius)\n",
        "        }\n",
        "    else:\n",
        "        return None\n",
        "\n",
        "result = convert_temperature(25, \"celsius\")\n",
        "print(f\"25°C = {result['fahrenheit']:.2f}°F, {result['kelvin']:.2f}K\")"
      ],
      "metadata": {
        "colab": {
          "base_uri": "https://localhost:8080/"
        },
        "id": "iJrmzX0nvHeh",
        "outputId": "c27fde39-93fc-4504-9ba2-db530aa53739"
      },
      "execution_count": 13,
      "outputs": [
        {
          "output_type": "stream",
          "name": "stdout",
          "text": [
            "25°C = 77.00°F, 298.15K\n"
          ]
        }
      ]
    }
  ]
}